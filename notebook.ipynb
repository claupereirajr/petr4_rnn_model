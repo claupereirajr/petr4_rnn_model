{
 "cells": [
  {
   "cell_type": "code",
   "execution_count": 1,
   "metadata": {},
   "outputs": [],
   "source": [
    "import pandas as pd\n",
    "import scipy as sc\n",
    "import numpy as np\n",
    "import matplotlib.pyplot as plt"
   ]
  },
  {
   "cell_type": "code",
   "execution_count": 2,
   "metadata": {},
   "outputs": [],
   "source": [
    "df = pd.read_csv('PETR4.SA.csv', delimiter=',', index_col='Date',parse_dates=True)"
   ]
  },
  {
   "cell_type": "code",
   "execution_count": 3,
   "metadata": {},
   "outputs": [
    {
     "data": {
      "text/html": [
       "<div>\n",
       "<style scoped>\n",
       "    .dataframe tbody tr th:only-of-type {\n",
       "        vertical-align: middle;\n",
       "    }\n",
       "\n",
       "    .dataframe tbody tr th {\n",
       "        vertical-align: top;\n",
       "    }\n",
       "\n",
       "    .dataframe thead th {\n",
       "        text-align: right;\n",
       "    }\n",
       "</style>\n",
       "<table border=\"1\" class=\"dataframe\">\n",
       "  <thead>\n",
       "    <tr style=\"text-align: right;\">\n",
       "      <th></th>\n",
       "      <th>Open</th>\n",
       "      <th>High</th>\n",
       "      <th>Low</th>\n",
       "      <th>Close</th>\n",
       "      <th>Adj Close</th>\n",
       "      <th>Volume</th>\n",
       "    </tr>\n",
       "    <tr>\n",
       "      <th>Date</th>\n",
       "      <th></th>\n",
       "      <th></th>\n",
       "      <th></th>\n",
       "      <th></th>\n",
       "      <th></th>\n",
       "      <th></th>\n",
       "    </tr>\n",
       "  </thead>\n",
       "  <tbody>\n",
       "    <tr>\n",
       "      <th>2021-01-14</th>\n",
       "      <td>29.170000</td>\n",
       "      <td>29.670000</td>\n",
       "      <td>28.719999</td>\n",
       "      <td>29.450001</td>\n",
       "      <td>23.936726</td>\n",
       "      <td>50745400</td>\n",
       "    </tr>\n",
       "    <tr>\n",
       "      <th>2021-01-15</th>\n",
       "      <td>29.049999</td>\n",
       "      <td>29.080000</td>\n",
       "      <td>28.030001</td>\n",
       "      <td>28.120001</td>\n",
       "      <td>22.855711</td>\n",
       "      <td>80673300</td>\n",
       "    </tr>\n",
       "    <tr>\n",
       "      <th>2021-01-18</th>\n",
       "      <td>28.309999</td>\n",
       "      <td>28.850000</td>\n",
       "      <td>28.010000</td>\n",
       "      <td>28.070000</td>\n",
       "      <td>22.815071</td>\n",
       "      <td>68855700</td>\n",
       "    </tr>\n",
       "    <tr>\n",
       "      <th>2021-01-19</th>\n",
       "      <td>28.480000</td>\n",
       "      <td>28.860001</td>\n",
       "      <td>27.639999</td>\n",
       "      <td>28.690001</td>\n",
       "      <td>23.319004</td>\n",
       "      <td>61656000</td>\n",
       "    </tr>\n",
       "    <tr>\n",
       "      <th>2021-01-20</th>\n",
       "      <td>28.950001</td>\n",
       "      <td>29.120001</td>\n",
       "      <td>28.110001</td>\n",
       "      <td>28.209999</td>\n",
       "      <td>22.928862</td>\n",
       "      <td>60306200</td>\n",
       "    </tr>\n",
       "    <tr>\n",
       "      <th>2021-01-21</th>\n",
       "      <td>28.020000</td>\n",
       "      <td>28.400000</td>\n",
       "      <td>27.510000</td>\n",
       "      <td>27.549999</td>\n",
       "      <td>22.392420</td>\n",
       "      <td>41284900</td>\n",
       "    </tr>\n",
       "    <tr>\n",
       "      <th>2021-01-22</th>\n",
       "      <td>26.930000</td>\n",
       "      <td>27.240000</td>\n",
       "      <td>26.559999</td>\n",
       "      <td>27.090000</td>\n",
       "      <td>22.018536</td>\n",
       "      <td>51181900</td>\n",
       "    </tr>\n",
       "    <tr>\n",
       "      <th>2021-01-26</th>\n",
       "      <td>27.250000</td>\n",
       "      <td>27.969999</td>\n",
       "      <td>26.820000</td>\n",
       "      <td>27.000000</td>\n",
       "      <td>21.945385</td>\n",
       "      <td>64514600</td>\n",
       "    </tr>\n",
       "    <tr>\n",
       "      <th>2021-01-27</th>\n",
       "      <td>26.809999</td>\n",
       "      <td>28.170000</td>\n",
       "      <td>26.530001</td>\n",
       "      <td>27.400000</td>\n",
       "      <td>22.270500</td>\n",
       "      <td>68337800</td>\n",
       "    </tr>\n",
       "    <tr>\n",
       "      <th>2021-01-28</th>\n",
       "      <td>27.320000</td>\n",
       "      <td>28.450001</td>\n",
       "      <td>27.309999</td>\n",
       "      <td>27.760000</td>\n",
       "      <td>22.563107</td>\n",
       "      <td>67827000</td>\n",
       "    </tr>\n",
       "  </tbody>\n",
       "</table>\n",
       "</div>"
      ],
      "text/plain": [
       "                 Open       High        Low      Close  Adj Close    Volume\n",
       "Date                                                                       \n",
       "2021-01-14  29.170000  29.670000  28.719999  29.450001  23.936726  50745400\n",
       "2021-01-15  29.049999  29.080000  28.030001  28.120001  22.855711  80673300\n",
       "2021-01-18  28.309999  28.850000  28.010000  28.070000  22.815071  68855700\n",
       "2021-01-19  28.480000  28.860001  27.639999  28.690001  23.319004  61656000\n",
       "2021-01-20  28.950001  29.120001  28.110001  28.209999  22.928862  60306200\n",
       "2021-01-21  28.020000  28.400000  27.510000  27.549999  22.392420  41284900\n",
       "2021-01-22  26.930000  27.240000  26.559999  27.090000  22.018536  51181900\n",
       "2021-01-26  27.250000  27.969999  26.820000  27.000000  21.945385  64514600\n",
       "2021-01-27  26.809999  28.170000  26.530001  27.400000  22.270500  68337800\n",
       "2021-01-28  27.320000  28.450001  27.309999  27.760000  22.563107  67827000"
      ]
     },
     "execution_count": 3,
     "metadata": {},
     "output_type": "execute_result"
    }
   ],
   "source": [
    "df.head(10)"
   ]
  },
  {
   "cell_type": "code",
   "execution_count": 4,
   "metadata": {},
   "outputs": [
    {
     "data": {
      "text/html": [
       "<div>\n",
       "<style scoped>\n",
       "    .dataframe tbody tr th:only-of-type {\n",
       "        vertical-align: middle;\n",
       "    }\n",
       "\n",
       "    .dataframe tbody tr th {\n",
       "        vertical-align: top;\n",
       "    }\n",
       "\n",
       "    .dataframe thead th {\n",
       "        text-align: right;\n",
       "    }\n",
       "</style>\n",
       "<table border=\"1\" class=\"dataframe\">\n",
       "  <thead>\n",
       "    <tr style=\"text-align: right;\">\n",
       "      <th></th>\n",
       "      <th>Open</th>\n",
       "      <th>High</th>\n",
       "      <th>Low</th>\n",
       "      <th>Close</th>\n",
       "      <th>Adj Close</th>\n",
       "      <th>Volume</th>\n",
       "    </tr>\n",
       "  </thead>\n",
       "  <tbody>\n",
       "    <tr>\n",
       "      <th>count</th>\n",
       "      <td>250.000000</td>\n",
       "      <td>250.000000</td>\n",
       "      <td>250.000000</td>\n",
       "      <td>250.000000</td>\n",
       "      <td>250.000000</td>\n",
       "      <td>2.500000e+02</td>\n",
       "    </tr>\n",
       "    <tr>\n",
       "      <th>mean</th>\n",
       "      <td>26.870040</td>\n",
       "      <td>27.274080</td>\n",
       "      <td>26.449320</td>\n",
       "      <td>26.858320</td>\n",
       "      <td>23.319959</td>\n",
       "      <td>7.815904e+07</td>\n",
       "    </tr>\n",
       "    <tr>\n",
       "      <th>std</th>\n",
       "      <td>2.189436</td>\n",
       "      <td>2.180545</td>\n",
       "      <td>2.210378</td>\n",
       "      <td>2.208127</td>\n",
       "      <td>2.980622</td>\n",
       "      <td>4.487832e+07</td>\n",
       "    </tr>\n",
       "    <tr>\n",
       "      <th>min</th>\n",
       "      <td>21.299999</td>\n",
       "      <td>21.889999</td>\n",
       "      <td>20.480000</td>\n",
       "      <td>21.100000</td>\n",
       "      <td>17.149912</td>\n",
       "      <td>6.821400e+06</td>\n",
       "    </tr>\n",
       "    <tr>\n",
       "      <th>25%</th>\n",
       "      <td>25.802499</td>\n",
       "      <td>26.190000</td>\n",
       "      <td>25.375000</td>\n",
       "      <td>25.585000</td>\n",
       "      <td>21.831224</td>\n",
       "      <td>5.296272e+07</td>\n",
       "    </tr>\n",
       "    <tr>\n",
       "      <th>50%</th>\n",
       "      <td>27.335000</td>\n",
       "      <td>27.770001</td>\n",
       "      <td>26.830000</td>\n",
       "      <td>27.280000</td>\n",
       "      <td>23.438604</td>\n",
       "      <td>6.814975e+07</td>\n",
       "    </tr>\n",
       "    <tr>\n",
       "      <th>75%</th>\n",
       "      <td>28.690001</td>\n",
       "      <td>29.067500</td>\n",
       "      <td>28.207500</td>\n",
       "      <td>28.660000</td>\n",
       "      <td>24.542375</td>\n",
       "      <td>8.843385e+07</td>\n",
       "    </tr>\n",
       "    <tr>\n",
       "      <th>max</th>\n",
       "      <td>31.400001</td>\n",
       "      <td>31.810000</td>\n",
       "      <td>31.259999</td>\n",
       "      <td>31.500001</td>\n",
       "      <td>30.360001</td>\n",
       "      <td>4.902304e+08</td>\n",
       "    </tr>\n",
       "  </tbody>\n",
       "</table>\n",
       "</div>"
      ],
      "text/plain": [
       "             Open        High         Low       Close   Adj Close  \\\n",
       "count  250.000000  250.000000  250.000000  250.000000  250.000000   \n",
       "mean    26.870040   27.274080   26.449320   26.858320   23.319959   \n",
       "std      2.189436    2.180545    2.210378    2.208127    2.980622   \n",
       "min     21.299999   21.889999   20.480000   21.100000   17.149912   \n",
       "25%     25.802499   26.190000   25.375000   25.585000   21.831224   \n",
       "50%     27.335000   27.770001   26.830000   27.280000   23.438604   \n",
       "75%     28.690001   29.067500   28.207500   28.660000   24.542375   \n",
       "max     31.400001   31.810000   31.259999   31.500001   30.360001   \n",
       "\n",
       "             Volume  \n",
       "count  2.500000e+02  \n",
       "mean   7.815904e+07  \n",
       "std    4.487832e+07  \n",
       "min    6.821400e+06  \n",
       "25%    5.296272e+07  \n",
       "50%    6.814975e+07  \n",
       "75%    8.843385e+07  \n",
       "max    4.902304e+08  "
      ]
     },
     "execution_count": 4,
     "metadata": {},
     "output_type": "execute_result"
    }
   ],
   "source": [
    "df.describe()"
   ]
  },
  {
   "cell_type": "code",
   "execution_count": 5,
   "metadata": {},
   "outputs": [
    {
     "data": {
      "text/plain": [
       "<AxesSubplot:xlabel='Date'>"
      ]
     },
     "execution_count": 5,
     "metadata": {},
     "output_type": "execute_result"
    },
    {
     "data": {
      "image/png": "[encoded data removed]",
      "text/plain": [
       "<Figure size 864x432 with 1 Axes>"
      ]
     },
     "metadata": {
      "needs_background": "light"
     },
     "output_type": "display_data"
    }
   ],
   "source": [
    "df['Close'].plot(figsize=(12,6))"
   ]
  },
  {
   "cell_type": "code",
   "execution_count": 55,
   "metadata": {},
   "outputs": [],
   "source": [
    "from sklearn.model_selection import train_test_split\n",
    "\n",
    "train = df['Close'].iloc[:200]\n",
    "test = df['Close'].iloc[200:]\n",
    "\n",
    "# train, test = train_test_split(df['Close'], test_size=0.33, shuffle=False)\n",
    "\n",
    "train = pd.DataFrame(train)\n",
    "test = pd.DataFrame(test)"
   ]
  },
  {
   "cell_type": "code",
   "execution_count": 56,
   "metadata": {},
   "outputs": [],
   "source": [
    "from sklearn.preprocessing import MinMaxScaler\n",
    "scaler = MinMaxScaler()"
   ]
  },
  {
   "cell_type": "code",
   "execution_count": 57,
   "metadata": {},
   "outputs": [],
   "source": [
    "scaler.fit(train)\n",
    "scaled_train = scaler.transform(train)\n",
    "scaled_test = scaler.transform(test)"
   ]
  },
  {
   "cell_type": "code",
   "execution_count": 58,
   "metadata": {},
   "outputs": [
    {
     "data": {
      "text/plain": [
       "array([[0.97319359],\n",
       "       [0.81818193],\n",
       "       [0.81235431],\n",
       "       [0.8846155 ],\n",
       "       [0.82867121],\n",
       "       [0.75174814],\n",
       "       [0.6981352 ],\n",
       "       [0.68764569],\n",
       "       [0.73426573],\n",
       "       [0.77622378]])"
      ]
     },
     "execution_count": 58,
     "metadata": {},
     "output_type": "execute_result"
    }
   ],
   "source": [
    "scaled_train[:10]"
   ]
  },
  {
   "cell_type": "code",
   "execution_count": 59,
   "metadata": {},
   "outputs": [],
   "source": [
    "from keras.preprocessing.sequence import TimeseriesGenerator\n",
    "\n",
    "# define generator\n",
    "n_input = 3\n",
    "n_features = 1\n",
    "n_batch_size = 1\n",
    "generator = TimeseriesGenerator(scaled_train, scaled_train, length=n_input, batch_size=n_batch_size)"
   ]
  },
  {
   "cell_type": "code",
   "execution_count": 60,
   "metadata": {},
   "outputs": [
    {
     "name": "stdout",
     "output_type": "stream",
     "text": [
      "Given the Array: \n",
      "[0.97319359 0.81818193 0.81235431]\n",
      "Predict this y: \n",
      " [[0.8846155]]\n"
     ]
    }
   ],
   "source": [
    "X,y = generator[0]\n",
    "print(f'Given the Array: \\n{X.flatten()}')\n",
    "print(f'Predict this y: \\n {y}')"
   ]
  },
  {
   "cell_type": "code",
   "execution_count": 61,
   "metadata": {},
   "outputs": [
    {
     "data": {
      "text/plain": [
       "(1, 3, 1)"
      ]
     },
     "execution_count": 61,
     "metadata": {},
     "output_type": "execute_result"
    }
   ],
   "source": [
    "X.shape"
   ]
  },
  {
   "cell_type": "code",
   "execution_count": 62,
   "metadata": {},
   "outputs": [],
   "source": [
    "# We do the same thing, but now instead for 12 days\n",
    "n_input = 12\n",
    "n_batch_size = 1\n",
    "generator = TimeseriesGenerator(scaled_train, scaled_train, length=n_input, batch_size=n_batch_size)"
   ]
  },
  {
   "cell_type": "code",
   "execution_count": 63,
   "metadata": {},
   "outputs": [],
   "source": [
    "from keras.models import Sequential\n",
    "from keras.layers import Dense\n",
    "from keras.layers import LSTM\n",
    "from keras.callbacks import EarlyStopping\n",
    "from keras import optimizers"
   ]
  },
  {
   "cell_type": "code",
   "execution_count": 64,
   "metadata": {},
   "outputs": [],
   "source": [
    "# define model\n",
    "model = Sequential()\n",
    "model.add(LSTM(128, activation='relu', input_shape=(n_input, n_features), name='layer1'))\n",
    "model.add(Dense(1, name='layer2'))\n",
    "model.compile(optimizer=\"adam\", loss='mse', metrics=[\"accuracy\"])"
   ]
  },
  {
   "cell_type": "code",
   "execution_count": 65,
   "metadata": {},
   "outputs": [
    {
     "name": "stdout",
     "output_type": "stream",
     "text": [
      "Model: \"sequential_1\"\n",
      "_________________________________________________________________\n",
      " Layer (type)                Output Shape              Param #   \n",
      "=================================================================\n",
      " layer1 (LSTM)               (None, 128)               66560     \n",
      "                                                                 \n",
      " layer2 (Dense)              (None, 1)                 129       \n",
      "                                                                 \n",
      "=================================================================\n",
      "Total params: 66,689\n",
      "Trainable params: 66,689\n",
      "Non-trainable params: 0\n",
      "_________________________________________________________________\n"
     ]
    }
   ],
   "source": [
    "model.summary()"
   ]
  },
  {
   "cell_type": "code",
   "execution_count": 66,
   "metadata": {},
   "outputs": [
    {
     "name": "stdout",
     "output_type": "stream",
     "text": [
      "Epoch 1/50\n",
      "188/188 [==============================] - 2s 5ms/step - loss: 0.0328 - accuracy: 0.0106\n",
      "Epoch 2/50\n",
      "188/188 [==============================] - 1s 4ms/step - loss: 0.0208 - accuracy: 0.0106\n",
      "Epoch 3/50\n",
      "188/188 [==============================] - 1s 4ms/step - loss: 0.0178 - accuracy: 0.0106\n",
      "Epoch 4/50\n",
      "188/188 [==============================] - 1s 4ms/step - loss: 0.0157 - accuracy: 0.0106\n",
      "Epoch 5/50\n",
      "188/188 [==============================] - 1s 4ms/step - loss: 0.0134 - accuracy: 0.0106\n",
      "Epoch 6/50\n",
      "188/188 [==============================] - 1s 3ms/step - loss: 0.0133 - accuracy: 0.0106\n",
      "Epoch 7/50\n",
      "188/188 [==============================] - 1s 4ms/step - loss: 0.0130 - accuracy: 0.0106\n",
      "Epoch 8/50\n",
      "188/188 [==============================] - 1s 3ms/step - loss: 0.0120 - accuracy: 0.0106\n",
      "Epoch 9/50\n",
      "188/188 [==============================] - 1s 4ms/step - loss: 0.0116 - accuracy: 0.0106\n",
      "Epoch 10/50\n",
      "188/188 [==============================] - 1s 4ms/step - loss: 0.0114 - accuracy: 0.0106\n",
      "Epoch 11/50\n",
      "188/188 [==============================] - 1s 3ms/step - loss: 0.0105 - accuracy: 0.0106\n",
      "Epoch 12/50\n",
      "188/188 [==============================] - 1s 3ms/step - loss: 0.0102 - accuracy: 0.0106\n",
      "Epoch 13/50\n",
      "188/188 [==============================] - 1s 3ms/step - loss: 0.0107 - accuracy: 0.0106\n",
      "Epoch 14/50\n",
      "188/188 [==============================] - 1s 4ms/step - loss: 0.0100 - accuracy: 0.0106\n",
      "Epoch 15/50\n",
      "188/188 [==============================] - 1s 3ms/step - loss: 0.0092 - accuracy: 0.0106\n",
      "Epoch 16/50\n",
      "188/188 [==============================] - 1s 4ms/step - loss: 0.0096 - accuracy: 0.0106\n",
      "Epoch 17/50\n",
      "188/188 [==============================] - 1s 3ms/step - loss: 0.0091 - accuracy: 0.0106\n",
      "Epoch 18/50\n",
      "188/188 [==============================] - 1s 3ms/step - loss: 0.0092 - accuracy: 0.0106\n",
      "Epoch 19/50\n",
      "188/188 [==============================] - 1s 3ms/step - loss: 0.0094 - accuracy: 0.0106\n",
      "Epoch 20/50\n",
      "188/188 [==============================] - 1s 4ms/step - loss: 0.0085 - accuracy: 0.0106\n",
      "Epoch 21/50\n",
      "188/188 [==============================] - 1s 3ms/step - loss: 0.0088 - accuracy: 0.0106\n",
      "Epoch 22/50\n",
      "188/188 [==============================] - 1s 4ms/step - loss: 0.0089 - accuracy: 0.0106\n",
      "Epoch 23/50\n",
      "188/188 [==============================] - 1s 3ms/step - loss: 0.0082 - accuracy: 0.0106\n",
      "Epoch 24/50\n",
      "188/188 [==============================] - 1s 4ms/step - loss: 0.0081 - accuracy: 0.0106\n",
      "Epoch 25/50\n",
      "188/188 [==============================] - 1s 4ms/step - loss: 0.0079 - accuracy: 0.0106\n",
      "Epoch 26/50\n",
      "188/188 [==============================] - 1s 4ms/step - loss: 0.0082 - accuracy: 0.0106\n",
      "Epoch 27/50\n",
      "188/188 [==============================] - 1s 4ms/step - loss: 0.0081 - accuracy: 0.0106\n",
      "Epoch 28/50\n",
      "188/188 [==============================] - 1s 4ms/step - loss: 0.0082 - accuracy: 0.0106\n",
      "Epoch 29/50\n",
      "188/188 [==============================] - 1s 3ms/step - loss: 0.0090 - accuracy: 0.0106\n",
      "Epoch 30/50\n",
      "188/188 [==============================] - 1s 3ms/step - loss: 0.0080 - accuracy: 0.0106\n",
      "Epoch 31/50\n",
      "188/188 [==============================] - 1s 4ms/step - loss: 0.0078 - accuracy: 0.0106\n",
      "Epoch 32/50\n",
      "188/188 [==============================] - 1s 4ms/step - loss: 0.0080 - accuracy: 0.0106\n",
      "Epoch 33/50\n",
      "188/188 [==============================] - 1s 4ms/step - loss: 0.0080 - accuracy: 0.0106\n",
      "Epoch 34/50\n",
      "188/188 [==============================] - 1s 4ms/step - loss: 0.0079 - accuracy: 0.0106\n",
      "Epoch 35/50\n",
      "188/188 [==============================] - 1s 5ms/step - loss: 0.0075 - accuracy: 0.0106\n",
      "Epoch 36/50\n",
      "188/188 [==============================] - 1s 5ms/step - loss: 0.0081 - accuracy: 0.0106\n",
      "Epoch 37/50\n",
      "188/188 [==============================] - 1s 4ms/step - loss: 0.0074 - accuracy: 0.0106\n",
      "Epoch 38/50\n",
      "188/188 [==============================] - 1s 5ms/step - loss: 0.0073 - accuracy: 0.0106\n",
      "Epoch 39/50\n",
      "188/188 [==============================] - 1s 4ms/step - loss: 0.0074 - accuracy: 0.0106\n",
      "Epoch 40/50\n",
      "188/188 [==============================] - 1s 4ms/step - loss: 0.0076 - accuracy: 0.0106\n",
      "Epoch 41/50\n",
      "188/188 [==============================] - 1s 4ms/step - loss: 0.0074 - accuracy: 0.0106\n",
      "Epoch 42/50\n",
      "188/188 [==============================] - 1s 5ms/step - loss: 0.0075 - accuracy: 0.0106\n",
      "Epoch 43/50\n",
      "188/188 [==============================] - 1s 4ms/step - loss: 0.0075 - accuracy: 0.0106\n",
      "Epoch 44/50\n",
      "188/188 [==============================] - 1s 4ms/step - loss: 0.0074 - accuracy: 0.0106\n",
      "Epoch 45/50\n",
      "188/188 [==============================] - 1s 5ms/step - loss: 0.0076 - accuracy: 0.0106\n",
      "Epoch 46/50\n",
      "188/188 [==============================] - 1s 4ms/step - loss: 0.0070 - accuracy: 0.0106\n",
      "Epoch 47/50\n",
      "188/188 [==============================] - 1s 4ms/step - loss: 0.0076 - accuracy: 0.0106\n",
      "Epoch 48/50\n",
      "188/188 [==============================] - 1s 4ms/step - loss: 0.0074 - accuracy: 0.0106\n",
      "Epoch 49/50\n",
      "188/188 [==============================] - 1s 5ms/step - loss: 0.0074 - accuracy: 0.0106\n",
      "Epoch 50/50\n",
      "188/188 [==============================] - 1s 5ms/step - loss: 0.0079 - accuracy: 0.0106\n"
     ]
    },
    {
     "data": {
      "text/plain": [
       "<keras.callbacks.History at 0x1a4cde9b910>"
      ]
     },
     "execution_count": 66,
     "metadata": {},
     "output_type": "execute_result"
    }
   ],
   "source": [
    "#fit the model\n",
    "n_epochs = 50\n",
    "n_batch_size = 3\n",
    "verbose = 1\n",
    "\n",
    "model.fit(generator, epochs=n_epochs, verbose=verbose)"
   ]
  },
  {
   "cell_type": "code",
   "execution_count": 67,
   "metadata": {},
   "outputs": [
    {
     "data": {
      "text/plain": [
       "[<matplotlib.lines.Line2D at 0x1a4cf78f6a0>]"
      ]
     },
     "execution_count": 67,
     "metadata": {},
     "output_type": "execute_result"
    },
    {
     "data": {
      "image/png": "[encoded data removed]",
      "text/plain": [
       "<Figure size 432x288 with 1 Axes>"
      ]
     },
     "metadata": {
      "needs_background": "light"
     },
     "output_type": "display_data"
    }
   ],
   "source": [
    "loss_per_epoch = model.history.history['loss']\n",
    "plt.plot(range(len(loss_per_epoch)),loss_per_epoch)"
   ]
  },
  {
   "cell_type": "code",
   "execution_count": 87,
   "metadata": {},
   "outputs": [],
   "source": [
    "last_train_batch = scaled_train[-n_input:]"
   ]
  },
  {
   "cell_type": "code",
   "execution_count": 88,
   "metadata": {},
   "outputs": [],
   "source": [
    "last_train_batch = last_train_batch.reshape((1, n_input, n_features))"
   ]
  },
  {
   "cell_type": "code",
   "execution_count": 89,
   "metadata": {},
   "outputs": [
    {
     "name": "stdout",
     "output_type": "stream",
     "text": [
      "1/1 [==============================] - 0s 21ms/step\n"
     ]
    },
    {
     "data": {
      "text/plain": [
       "array([[0.66119087]], dtype=float32)"
      ]
     },
     "execution_count": 89,
     "metadata": {},
     "output_type": "execute_result"
    }
   ],
   "source": [
    "model.predict(last_train_batch)"
   ]
  },
  {
   "cell_type": "code",
   "execution_count": 90,
   "metadata": {},
   "outputs": [
    {
     "data": {
      "text/plain": [
       "array([[0.57109557],\n",
       "       [0.55361305],\n",
       "       [0.5850817 ],\n",
       "       [0.64568753],\n",
       "       [0.62121212],\n",
       "       [0.62354324]])"
      ]
     },
     "execution_count": 90,
     "metadata": {},
     "output_type": "execute_result"
    }
   ],
   "source": [
    "scaled_test[0:6]"
   ]
  },
  {
   "cell_type": "code",
   "execution_count": 91,
   "metadata": {},
   "outputs": [
    {
     "name": "stdout",
     "output_type": "stream",
     "text": [
      "1/1 [==============================] - 0s 27ms/step\n",
      "1/1 [==============================] - 0s 21ms/step\n",
      "1/1 [==============================] - 0s 17ms/step\n",
      "1/1 [==============================] - 0s 15ms/step\n",
      "1/1 [==============================] - 0s 16ms/step\n",
      "1/1 [==============================] - 0s 16ms/step\n",
      "1/1 [==============================] - 0s 19ms/step\n",
      "1/1 [==============================] - 0s 17ms/step\n",
      "1/1 [==============================] - 0s 16ms/step\n",
      "1/1 [==============================] - 0s 17ms/step\n",
      "1/1 [==============================] - 0s 18ms/step\n",
      "1/1 [==============================] - 0s 20ms/step\n",
      "1/1 [==============================] - 0s 22ms/step\n",
      "1/1 [==============================] - 0s 20ms/step\n",
      "1/1 [==============================] - 0s 23ms/step\n",
      "1/1 [==============================] - 0s 23ms/step\n",
      "1/1 [==============================] - 0s 18ms/step\n",
      "1/1 [==============================] - 0s 24ms/step\n",
      "1/1 [==============================] - 0s 17ms/step\n",
      "1/1 [==============================] - 0s 19ms/step\n",
      "1/1 [==============================] - 0s 44ms/step\n",
      "1/1 [==============================] - 0s 17ms/step\n",
      "1/1 [==============================] - 0s 20ms/step\n",
      "1/1 [==============================] - 0s 16ms/step\n",
      "1/1 [==============================] - 0s 15ms/step\n",
      "1/1 [==============================] - 0s 17ms/step\n",
      "1/1 [==============================] - 0s 17ms/step\n",
      "1/1 [==============================] - 0s 17ms/step\n",
      "1/1 [==============================] - 0s 16ms/step\n",
      "1/1 [==============================] - 0s 21ms/step\n",
      "1/1 [==============================] - 0s 20ms/step\n",
      "1/1 [==============================] - 0s 26ms/step\n",
      "1/1 [==============================] - 0s 25ms/step\n",
      "1/1 [==============================] - 0s 20ms/step\n",
      "1/1 [==============================] - 0s 20ms/step\n",
      "1/1 [==============================] - 0s 22ms/step\n",
      "1/1 [==============================] - 0s 20ms/step\n",
      "1/1 [==============================] - 0s 16ms/step\n",
      "1/1 [==============================] - 0s 16ms/step\n",
      "1/1 [==============================] - 0s 18ms/step\n",
      "1/1 [==============================] - 0s 25ms/step\n",
      "1/1 [==============================] - 0s 17ms/step\n",
      "1/1 [==============================] - 0s 20ms/step\n",
      "1/1 [==============================] - 0s 27ms/step\n",
      "1/1 [==============================] - 0s 23ms/step\n",
      "1/1 [==============================] - 0s 17ms/step\n",
      "1/1 [==============================] - 0s 17ms/step\n",
      "1/1 [==============================] - 0s 19ms/step\n",
      "1/1 [==============================] - 0s 22ms/step\n",
      "1/1 [==============================] - 0s 20ms/step\n"
     ]
    }
   ],
   "source": [
    "test_predictions = []\n",
    "\n",
    "first_eval_batch = scaled_train[-n_input:]\n",
    "current_batch = first_eval_batch.reshape((1, n_input, n_features))\n",
    "\n",
    "for i in range(len(test)):\n",
    "    \n",
    "    # get the prediction value for the first batch\n",
    "    current_pred = model.predict(current_batch)[0]\n",
    "    \n",
    "    # append the prediction into the array\n",
    "    test_predictions.append(current_pred) \n",
    "    \n",
    "    # use the prediction to update the batch and remove the first value\n",
    "    current_batch = np.append(current_batch[:,1:,:],[[current_pred]],axis=1)"
   ]
  },
  {
   "cell_type": "code",
   "execution_count": 92,
   "metadata": {},
   "outputs": [
    {
     "data": {
      "text/plain": [
       "[array([0.66119087], dtype=float32),\n",
       " array([0.66929364], dtype=float32),\n",
       " array([0.6862232], dtype=float32),\n",
       " array([0.70556647], dtype=float32),\n",
       " array([0.72395456], dtype=float32),\n",
       " array([0.73926854], dtype=float32),\n",
       " array([0.7518844], dtype=float32),\n",
       " array([0.7618761], dtype=float32),\n",
       " array([0.7694566], dtype=float32),\n",
       " array([0.77575874], dtype=float32)]"
      ]
     },
     "execution_count": 92,
     "metadata": {},
     "output_type": "execute_result"
    }
   ],
   "source": [
    "test_predictions[:10]"
   ]
  },
  {
   "cell_type": "code",
   "execution_count": 93,
   "metadata": {},
   "outputs": [
    {
     "data": {
      "text/html": [
       "<div>\n",
       "<style scoped>\n",
       "    .dataframe tbody tr th:only-of-type {\n",
       "        vertical-align: middle;\n",
       "    }\n",
       "\n",
       "    .dataframe tbody tr th {\n",
       "        vertical-align: top;\n",
       "    }\n",
       "\n",
       "    .dataframe thead th {\n",
       "        text-align: right;\n",
       "    }\n",
       "</style>\n",
       "<table border=\"1\" class=\"dataframe\">\n",
       "  <thead>\n",
       "    <tr style=\"text-align: right;\">\n",
       "      <th></th>\n",
       "      <th>Close</th>\n",
       "      <th>Close Pred</th>\n",
       "      <th>Prediction</th>\n",
       "    </tr>\n",
       "    <tr>\n",
       "      <th>Date</th>\n",
       "      <th></th>\n",
       "      <th></th>\n",
       "      <th></th>\n",
       "    </tr>\n",
       "  </thead>\n",
       "  <tbody>\n",
       "    <tr>\n",
       "      <th>2021-11-04</th>\n",
       "      <td>26.000000</td>\n",
       "      <td>26.773018</td>\n",
       "      <td>26.773018</td>\n",
       "    </tr>\n",
       "    <tr>\n",
       "      <th>2021-11-05</th>\n",
       "      <td>25.850000</td>\n",
       "      <td>26.842539</td>\n",
       "      <td>26.842539</td>\n",
       "    </tr>\n",
       "    <tr>\n",
       "      <th>2021-11-08</th>\n",
       "      <td>26.120001</td>\n",
       "      <td>26.987795</td>\n",
       "      <td>26.987795</td>\n",
       "    </tr>\n",
       "    <tr>\n",
       "      <th>2021-11-09</th>\n",
       "      <td>26.639999</td>\n",
       "      <td>27.153760</td>\n",
       "      <td>27.153760</td>\n",
       "    </tr>\n",
       "    <tr>\n",
       "      <th>2021-11-10</th>\n",
       "      <td>26.430000</td>\n",
       "      <td>27.311530</td>\n",
       "      <td>27.311530</td>\n",
       "    </tr>\n",
       "  </tbody>\n",
       "</table>\n",
       "</div>"
      ],
      "text/plain": [
       "                Close  Close Pred  Prediction\n",
       "Date                                         \n",
       "2021-11-04  26.000000   26.773018   26.773018\n",
       "2021-11-05  25.850000   26.842539   26.842539\n",
       "2021-11-08  26.120001   26.987795   26.987795\n",
       "2021-11-09  26.639999   27.153760   27.153760\n",
       "2021-11-10  26.430000   27.311530   27.311530"
      ]
     },
     "execution_count": 93,
     "metadata": {},
     "output_type": "execute_result"
    }
   ],
   "source": [
    "test.head()"
   ]
  },
  {
   "cell_type": "code",
   "execution_count": 94,
   "metadata": {},
   "outputs": [],
   "source": [
    "true_predictions = scaler.inverse_transform(test_predictions)"
   ]
  },
  {
   "cell_type": "code",
   "execution_count": 95,
   "metadata": {},
   "outputs": [],
   "source": [
    "test['Prediction'] = true_predictions"
   ]
  },
  {
   "cell_type": "code",
   "execution_count": 96,
   "metadata": {},
   "outputs": [
    {
     "data": {
      "text/plain": [
       "<AxesSubplot:xlabel='Date'>"
      ]
     },
     "execution_count": 96,
     "metadata": {},
     "output_type": "execute_result"
    },
    {
     "data": {
      "image/png": "[encoded data removed]",
      "text/plain": [
       "<Figure size 1152x360 with 1 Axes>"
      ]
     },
     "metadata": {
      "needs_background": "light"
     },
     "output_type": "display_data"
    }
   ],
   "source": [
    "test.plot(figsize=(16,5))"
   ]
  },
  {
   "cell_type": "code",
   "execution_count": 97,
   "metadata": {},
   "outputs": [
    {
     "data": {
      "text/plain": [
       "1.2825204781796042"
      ]
     },
     "execution_count": 97,
     "metadata": {},
     "output_type": "execute_result"
    }
   ],
   "source": [
    "from sklearn.metrics import mean_squared_error\n",
    "from math import sqrt\n",
    "rmse = sqrt(mean_squared_error(test['Close'],test['Prediction']))\n",
    "rmse"
   ]
  }
 ],
 "metadata": {
  "kernelspec": {
   "display_name": "fulldata310",
   "language": "python",
   "name": "python3"
  },
  "language_info": {
   "codemirror_mode": {
    "name": "ipython",
    "version": 3
   },
   "file_extension": ".py",
   "mimetype": "text/x-python",
   "name": "python",
   "nbconvert_exporter": "python",
   "pygments_lexer": "ipython3",
   "version": "3.10.4"
  },
  "orig_nbformat": 4,
  "vscode": {
   "interpreter": {
    "hash": "d953a7648064bcd5ff9a7692a1584c007f35331fbb7aae73bda7c5ab2129929a"
   }
  }
 },
 "nbformat": 4,
 "nbformat_minor": 2
}
